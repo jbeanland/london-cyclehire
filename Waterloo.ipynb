{
 "cells": [
  {
   "cell_type": "code",
   "execution_count": 2,
   "metadata": {},
   "outputs": [
    {
     "data": {
      "text/html": [
       "<style>.container { width:95% !important; }</style>"
      ],
      "text/plain": [
       "<IPython.core.display.HTML object>"
      ]
     },
     "metadata": {},
     "output_type": "display_data"
    }
   ],
   "source": [
    "import pandas as pd\n",
    "import numpy as np\n",
    "\n",
    "import matplotlib.pyplot as plt\n",
    "import matplotlib.dates as dates\n",
    "import pylab\n",
    "\n",
    "from sklearn import linear_model\n",
    "from sklearn.model_selection import train_test_split\n",
    "from scipy import stats\n",
    "\n",
    "from haversine import haversine\n",
    "from datetime import datetime, date, timedelta\n",
    "import json\n",
    "import pickle\n",
    "\n",
    "from IPython.core.display import display, HTML\n",
    "display(HTML(\"<style>.container { width:95% !important; }</style>\"))\n",
    "%matplotlib inline"
   ]
  },
  {
   "cell_type": "markdown",
   "metadata": {},
   "source": [
    "# A closer look at Waterloo Station\n",
    "\n",
    "After a quick look it seems that Waterloo is among if not the busiest location. There are in fact 3 rental points for the station and 'Overview' shows that there are a massive number of bikes being taken from and returned to there each day.\n",
    "\n",
    "For this notebook the three stations will be combined and treated as a single unit.\n",
    "\n",
    "<table>\n",
    "    <thead>\n",
    "        <tr>\n",
    "            <th>Name</th>\n",
    "            <th>ID</th>\n",
    "            <th>Capacity</th>\n",
    "        </tr>\n",
    "    </thead>\n",
    "    <tbody>\n",
    "        <tr>\n",
    "            <td>Waterloo Station 1</td>\n",
    "            <td>374</td>\n",
    "            <td>36</td>\n",
    "        </tr>\n",
    "        <tr>\n",
    "            <td>Waterloo Station 2</td>\n",
    "            <td>361</td>\n",
    "            <td>55</td>\n",
    "        </tr>\n",
    "        <tr>\n",
    "            <td>Waterloo Station 3</td>\n",
    "            <td>154</td>\n",
    "            <td>35</td>\n",
    "        </tr>\n",
    "    </tbody>\n",
    "    \n",
    "\n",
    "</table>"
   ]
  },
  {
   "cell_type": "code",
   "execution_count": 2,
   "metadata": {},
   "outputs": [],
   "source": [
    "d = pd.read_csv('tfl_cycle_hire_2017.csv')"
   ]
  },
  {
   "cell_type": "code",
   "execution_count": 3,
   "metadata": {},
   "outputs": [],
   "source": [
    "waterloo_ids = [374, 361, 154]\n",
    "d = d[(d['startstation_id'].isin(waterloo_ids)) | (d['endstation_id'].isin(waterloo_ids))]"
   ]
  },
  {
   "cell_type": "code",
   "execution_count": 4,
   "metadata": {},
   "outputs": [],
   "source": [
    "d_copy = d.copy()"
   ]
  },
  {
   "cell_type": "code",
   "execution_count": 8,
   "metadata": {},
   "outputs": [],
   "source": [
    "d = d_copy.copy()"
   ]
  },
  {
   "cell_type": "code",
   "execution_count": 9,
   "metadata": {},
   "outputs": [],
   "source": [
    "d['returned'] = d['endstation_id'].isin(waterloo_ids)\n",
    "d['startdate'] = pd.to_datetime(d['startdate'])\n",
    "d['enddate'] = pd.to_datetime(d['enddate'])\n",
    "# d.index = d['startdate']\n",
    "# del d.index.name"
   ]
  },
  {
   "cell_type": "code",
   "execution_count": 10,
   "metadata": {},
   "outputs": [
    {
     "name": "stdout",
     "output_type": "stream",
     "text": [
      "(332091, 19)\n"
     ]
    },
    {
     "data": {
      "text/html": [
       "<div>\n",
       "<style scoped>\n",
       "    .dataframe tbody tr th:only-of-type {\n",
       "        vertical-align: middle;\n",
       "    }\n",
       "\n",
       "    .dataframe tbody tr th {\n",
       "        vertical-align: top;\n",
       "    }\n",
       "\n",
       "    .dataframe thead th {\n",
       "        text-align: right;\n",
       "    }\n",
       "</style>\n",
       "<table border=\"1\" class=\"dataframe\">\n",
       "  <thead>\n",
       "    <tr style=\"text-align: right;\">\n",
       "      <th></th>\n",
       "      <th>startstation_lat</th>\n",
       "      <th>startstation_lon</th>\n",
       "      <th>startstaton_docks</th>\n",
       "      <th>endstation_lat</th>\n",
       "      <th>endstation_lon</th>\n",
       "      <th>endstationdocks</th>\n",
       "      <th>rental_id</th>\n",
       "      <th>duration</th>\n",
       "      <th>bike_id</th>\n",
       "      <th>startdate</th>\n",
       "      <th>startstation_id</th>\n",
       "      <th>startstation_name</th>\n",
       "      <th>enddate</th>\n",
       "      <th>endstation_id</th>\n",
       "      <th>endstation_name</th>\n",
       "      <th>year</th>\n",
       "      <th>startstation_location</th>\n",
       "      <th>endstation_location</th>\n",
       "      <th>returned</th>\n",
       "    </tr>\n",
       "  </thead>\n",
       "  <tbody>\n",
       "    <tr>\n",
       "      <th>2433</th>\n",
       "      <td>51.513280</td>\n",
       "      <td>-0.047784</td>\n",
       "      <td>33</td>\n",
       "      <td>51.504027</td>\n",
       "      <td>-0.113864</td>\n",
       "      <td>36</td>\n",
       "      <td>64050784</td>\n",
       "      <td>1320</td>\n",
       "      <td>6623</td>\n",
       "      <td>2017-04-14 05:49:00</td>\n",
       "      <td>483</td>\n",
       "      <td>Albert Gardens, Stepney</td>\n",
       "      <td>2017-04-14 06:11:00</td>\n",
       "      <td>374</td>\n",
       "      <td>Waterloo Station 1, Waterloo</td>\n",
       "      <td>2017</td>\n",
       "      <td>POINT(-0.047784 51.51328)</td>\n",
       "      <td>POINT(-0.113864 51.504027)</td>\n",
       "      <td>True</td>\n",
       "    </tr>\n",
       "    <tr>\n",
       "      <th>2434</th>\n",
       "      <td>51.513280</td>\n",
       "      <td>-0.047784</td>\n",
       "      <td>33</td>\n",
       "      <td>51.504027</td>\n",
       "      <td>-0.113864</td>\n",
       "      <td>36</td>\n",
       "      <td>66945617</td>\n",
       "      <td>2040</td>\n",
       "      <td>10353</td>\n",
       "      <td>2017-07-05 09:12:00</td>\n",
       "      <td>483</td>\n",
       "      <td>Albert Gardens, Stepney</td>\n",
       "      <td>2017-07-05 09:46:00</td>\n",
       "      <td>374</td>\n",
       "      <td>Waterloo Station 1, Waterloo</td>\n",
       "      <td>2017</td>\n",
       "      <td>POINT(-0.047784 51.51328)</td>\n",
       "      <td>POINT(-0.113864 51.504027)</td>\n",
       "      <td>True</td>\n",
       "    </tr>\n",
       "    <tr>\n",
       "      <th>2435</th>\n",
       "      <td>51.513280</td>\n",
       "      <td>-0.047784</td>\n",
       "      <td>33</td>\n",
       "      <td>51.503919</td>\n",
       "      <td>-0.113426</td>\n",
       "      <td>55</td>\n",
       "      <td>64596695</td>\n",
       "      <td>1260</td>\n",
       "      <td>4446</td>\n",
       "      <td>2017-05-02 18:24:00</td>\n",
       "      <td>483</td>\n",
       "      <td>Albert Gardens, Stepney</td>\n",
       "      <td>2017-05-02 18:45:00</td>\n",
       "      <td>361</td>\n",
       "      <td>Waterloo Station 2, Waterloo</td>\n",
       "      <td>2017</td>\n",
       "      <td>POINT(-0.047784 51.51328)</td>\n",
       "      <td>POINT(-0.113426 51.503919)</td>\n",
       "      <td>True</td>\n",
       "    </tr>\n",
       "    <tr>\n",
       "      <th>5180</th>\n",
       "      <td>51.494347</td>\n",
       "      <td>-0.215804</td>\n",
       "      <td>33</td>\n",
       "      <td>51.504027</td>\n",
       "      <td>-0.113864</td>\n",
       "      <td>36</td>\n",
       "      <td>63268877</td>\n",
       "      <td>1860</td>\n",
       "      <td>6887</td>\n",
       "      <td>2017-03-21 16:13:00</td>\n",
       "      <td>634</td>\n",
       "      <td>Brook Green South, Brook Green</td>\n",
       "      <td>2017-03-21 16:44:00</td>\n",
       "      <td>374</td>\n",
       "      <td>Waterloo Station 1, Waterloo</td>\n",
       "      <td>2017</td>\n",
       "      <td>POINT(-0.215804 51.494347)</td>\n",
       "      <td>POINT(-0.113864 51.504027)</td>\n",
       "      <td>True</td>\n",
       "    </tr>\n",
       "    <tr>\n",
       "      <th>5181</th>\n",
       "      <td>51.494347</td>\n",
       "      <td>-0.215804</td>\n",
       "      <td>33</td>\n",
       "      <td>51.503791</td>\n",
       "      <td>-0.112824</td>\n",
       "      <td>35</td>\n",
       "      <td>62422002</td>\n",
       "      <td>1920</td>\n",
       "      <td>833</td>\n",
       "      <td>2017-02-16 16:03:00</td>\n",
       "      <td>634</td>\n",
       "      <td>Brook Green South, Brook Green</td>\n",
       "      <td>2017-02-16 16:35:00</td>\n",
       "      <td>154</td>\n",
       "      <td>Waterloo Station 3, Waterloo</td>\n",
       "      <td>2017</td>\n",
       "      <td>POINT(-0.215804 51.494347)</td>\n",
       "      <td>POINT(-0.112824 51.503791)</td>\n",
       "      <td>True</td>\n",
       "    </tr>\n",
       "  </tbody>\n",
       "</table>\n",
       "</div>"
      ],
      "text/plain": [
       "      startstation_lat  startstation_lon  startstaton_docks  endstation_lat  \\\n",
       "2433         51.513280         -0.047784                 33       51.504027   \n",
       "2434         51.513280         -0.047784                 33       51.504027   \n",
       "2435         51.513280         -0.047784                 33       51.503919   \n",
       "5180         51.494347         -0.215804                 33       51.504027   \n",
       "5181         51.494347         -0.215804                 33       51.503791   \n",
       "\n",
       "      endstation_lon  endstationdocks  rental_id  duration  bike_id  \\\n",
       "2433       -0.113864               36   64050784      1320     6623   \n",
       "2434       -0.113864               36   66945617      2040    10353   \n",
       "2435       -0.113426               55   64596695      1260     4446   \n",
       "5180       -0.113864               36   63268877      1860     6887   \n",
       "5181       -0.112824               35   62422002      1920      833   \n",
       "\n",
       "               startdate  startstation_id               startstation_name  \\\n",
       "2433 2017-04-14 05:49:00              483         Albert Gardens, Stepney   \n",
       "2434 2017-07-05 09:12:00              483         Albert Gardens, Stepney   \n",
       "2435 2017-05-02 18:24:00              483         Albert Gardens, Stepney   \n",
       "5180 2017-03-21 16:13:00              634  Brook Green South, Brook Green   \n",
       "5181 2017-02-16 16:03:00              634  Brook Green South, Brook Green   \n",
       "\n",
       "                 enddate  endstation_id               endstation_name  year  \\\n",
       "2433 2017-04-14 06:11:00            374  Waterloo Station 1, Waterloo  2017   \n",
       "2434 2017-07-05 09:46:00            374  Waterloo Station 1, Waterloo  2017   \n",
       "2435 2017-05-02 18:45:00            361  Waterloo Station 2, Waterloo  2017   \n",
       "5180 2017-03-21 16:44:00            374  Waterloo Station 1, Waterloo  2017   \n",
       "5181 2017-02-16 16:35:00            154  Waterloo Station 3, Waterloo  2017   \n",
       "\n",
       "           startstation_location         endstation_location  returned  \n",
       "2433   POINT(-0.047784 51.51328)  POINT(-0.113864 51.504027)      True  \n",
       "2434   POINT(-0.047784 51.51328)  POINT(-0.113864 51.504027)      True  \n",
       "2435   POINT(-0.047784 51.51328)  POINT(-0.113426 51.503919)      True  \n",
       "5180  POINT(-0.215804 51.494347)  POINT(-0.113864 51.504027)      True  \n",
       "5181  POINT(-0.215804 51.494347)  POINT(-0.112824 51.503791)      True  "
      ]
     },
     "execution_count": 10,
     "metadata": {},
     "output_type": "execute_result"
    }
   ],
   "source": [
    "print(d.shape)\n",
    "d.head()"
   ]
  },
  {
   "cell_type": "markdown",
   "metadata": {},
   "source": [
    "So, when are people taking and returning these things. The assumption is that the traffic is massively commuter-heavy.\n",
    "\n",
    "Well, looks like this is true, Overwhelming number removed are in the morning hours and similarly most are returned at going-home time."
   ]
  },
  {
   "cell_type": "code",
   "execution_count": 11,
   "metadata": {},
   "outputs": [
    {
     "data": {
      "image/png": "[encoded data removed]",
      "text/plain": [
       "<Figure size 432x288 with 1 Axes>"
      ]
     },
     "metadata": {},
     "output_type": "display_data"
    }
   ],
   "source": [
    "ax = pd.DataFrame(d[d['returned'] == False].startdate.dt.hour.value_counts()).sort_index().plot(kind='bar', title=\"Bikes removed from Waterloo Station\")\n",
    "ax.set(xlabel='Hour', ylabel='Number of Bikes')\n",
    "plt.show()"
   ]
  },
  {
   "cell_type": "code",
   "execution_count": 12,
   "metadata": {},
   "outputs": [
    {
     "data": {
      "image/png": "[encoded data removed]",
      "text/plain": [
       "<Figure size 432x288 with 1 Axes>"
      ]
     },
     "metadata": {},
     "output_type": "display_data"
    }
   ],
   "source": [
    "ax = pd.DataFrame(d[d['returned'] == True].startdate.dt.hour.value_counts()).sort_index().plot(kind='bar', title=\"Bikes returned to Waterloo Station\")\n",
    "ax.set(xlabel='Hour', ylabel='Number of Bikes')\n",
    "plt.show()"
   ]
  },
  {
   "cell_type": "markdown",
   "metadata": {},
   "source": [
    "There really is not much usage on the weekend."
   ]
  },
  {
   "cell_type": "code",
   "execution_count": 31,
   "metadata": {},
   "outputs": [
    {
     "data": {
      "image/png": "[encoded data removed]",
      "text/plain": [
       "<Figure size 1800x432 with 1 Axes>"
      ]
     },
     "metadata": {},
     "output_type": "display_data"
    }
   ],
   "source": [
    "ax = pd.DataFrame(d.startdate.dt.date.value_counts()).sort_index().plot(kind='bar', title=\"Bikes returned to Waterloo Station\", color='black', figsize=[25,6])\n",
    "ax.set(xlabel='Hour', ylabel='Number of Bikes') \n",
    "for index, label in enumerate(ax.xaxis.get_ticklabels()):\n",
    "    if index % 5 != 0:\n",
    "        label.set_visible(False)\n",
    "plt.show()"
   ]
  },
  {
   "cell_type": "markdown",
   "metadata": {},
   "source": [
    "What does daily usage look like if we only look at weekdays. Seems fairly consistent across the year."
   ]
  },
  {
   "cell_type": "code",
   "execution_count": 33,
   "metadata": {
    "scrolled": false
   },
   "outputs": [
    {
     "data": {
      "image/png": "[encoded data removed]",
      "text/plain": [
       "<Figure size 1440x432 with 1 Axes>"
      ]
     },
     "metadata": {},
     "output_type": "display_data"
    }
   ],
   "source": [
    "fig, ax = plt.subplots()\n",
    "d[d['startdate'].dt.dayofweek <= 4].groupby(d['startdate'].dt.date)['startstation_id'].count().plot(ax=ax, kind=\"bar\", color='black', figsize=[20,6], title=\"Bikes to or from Waterloo Station on weekdays only\") \n",
    "for index, label in enumerate(ax.xaxis.get_ticklabels()):\n",
    "    if index % 5 != 0:\n",
    "        label.set_visible(False)"
   ]
  },
  {
   "cell_type": "markdown",
   "metadata": {},
   "source": [
    "## Get some general numbers\n",
    "For each day, we can record the number taken and returned, as well as the net loss or gain in bikes for the day and the ratio for taken:returned.\n",
    "\n",
    "We will here define 'used' as either taken or returned, basically meaning that the bike had some sort of transaction with Waterloo."
   ]
  },
  {
   "cell_type": "code",
   "execution_count": 20,
   "metadata": {
    "scrolled": true
   },
   "outputs": [
    {
     "data": {
      "text/html": [
       "<div>\n",
       "<style scoped>\n",
       "    .dataframe tbody tr th:only-of-type {\n",
       "        vertical-align: middle;\n",
       "    }\n",
       "\n",
       "    .dataframe tbody tr th {\n",
       "        vertical-align: top;\n",
       "    }\n",
       "\n",
       "    .dataframe thead th {\n",
       "        text-align: right;\n",
       "    }\n",
       "</style>\n",
       "<table border=\"1\" class=\"dataframe\">\n",
       "  <thead>\n",
       "    <tr style=\"text-align: right;\">\n",
       "      <th></th>\n",
       "      <th>startdate</th>\n",
       "      <th>used</th>\n",
       "      <th>returned</th>\n",
       "      <th>net_loss</th>\n",
       "      <th>returned_ratio</th>\n",
       "      <th>taken</th>\n",
       "    </tr>\n",
       "  </thead>\n",
       "  <tbody>\n",
       "    <tr>\n",
       "      <th>0</th>\n",
       "      <td>2017-01-02</td>\n",
       "      <td>121</td>\n",
       "      <td>74.0</td>\n",
       "      <td>-27.0</td>\n",
       "      <td>0.611570</td>\n",
       "      <td>47.0</td>\n",
       "    </tr>\n",
       "    <tr>\n",
       "      <th>1</th>\n",
       "      <td>2017-01-03</td>\n",
       "      <td>1041</td>\n",
       "      <td>544.0</td>\n",
       "      <td>-47.0</td>\n",
       "      <td>0.522574</td>\n",
       "      <td>497.0</td>\n",
       "    </tr>\n",
       "    <tr>\n",
       "      <th>2</th>\n",
       "      <td>2017-01-04</td>\n",
       "      <td>1234</td>\n",
       "      <td>607.0</td>\n",
       "      <td>20.0</td>\n",
       "      <td>0.491896</td>\n",
       "      <td>627.0</td>\n",
       "    </tr>\n",
       "    <tr>\n",
       "      <th>3</th>\n",
       "      <td>2017-01-05</td>\n",
       "      <td>1261</td>\n",
       "      <td>627.0</td>\n",
       "      <td>7.0</td>\n",
       "      <td>0.497224</td>\n",
       "      <td>634.0</td>\n",
       "    </tr>\n",
       "    <tr>\n",
       "      <th>4</th>\n",
       "      <td>2017-01-06</td>\n",
       "      <td>1046</td>\n",
       "      <td>440.0</td>\n",
       "      <td>166.0</td>\n",
       "      <td>0.420650</td>\n",
       "      <td>606.0</td>\n",
       "    </tr>\n",
       "    <tr>\n",
       "      <th>5</th>\n",
       "      <td>2017-01-07</td>\n",
       "      <td>97</td>\n",
       "      <td>50.0</td>\n",
       "      <td>-3.0</td>\n",
       "      <td>0.515464</td>\n",
       "      <td>47.0</td>\n",
       "    </tr>\n",
       "    <tr>\n",
       "      <th>6</th>\n",
       "      <td>2017-01-08</td>\n",
       "      <td>123</td>\n",
       "      <td>63.0</td>\n",
       "      <td>-3.0</td>\n",
       "      <td>0.512195</td>\n",
       "      <td>60.0</td>\n",
       "    </tr>\n",
       "    <tr>\n",
       "      <th>7</th>\n",
       "      <td>2017-01-09</td>\n",
       "      <td>1551</td>\n",
       "      <td>748.0</td>\n",
       "      <td>55.0</td>\n",
       "      <td>0.482270</td>\n",
       "      <td>803.0</td>\n",
       "    </tr>\n",
       "    <tr>\n",
       "      <th>8</th>\n",
       "      <td>2017-01-10</td>\n",
       "      <td>1373</td>\n",
       "      <td>684.0</td>\n",
       "      <td>5.0</td>\n",
       "      <td>0.498179</td>\n",
       "      <td>689.0</td>\n",
       "    </tr>\n",
       "    <tr>\n",
       "      <th>9</th>\n",
       "      <td>2017-01-11</td>\n",
       "      <td>1463</td>\n",
       "      <td>703.0</td>\n",
       "      <td>57.0</td>\n",
       "      <td>0.480519</td>\n",
       "      <td>760.0</td>\n",
       "    </tr>\n",
       "  </tbody>\n",
       "</table>\n",
       "</div>"
      ],
      "text/plain": [
       "   startdate  used  returned  net_loss  returned_ratio  taken\n",
       "0 2017-01-02   121      74.0     -27.0        0.611570   47.0\n",
       "1 2017-01-03  1041     544.0     -47.0        0.522574  497.0\n",
       "2 2017-01-04  1234     607.0      20.0        0.491896  627.0\n",
       "3 2017-01-05  1261     627.0       7.0        0.497224  634.0\n",
       "4 2017-01-06  1046     440.0     166.0        0.420650  606.0\n",
       "5 2017-01-07    97      50.0      -3.0        0.515464   47.0\n",
       "6 2017-01-08   123      63.0      -3.0        0.512195   60.0\n",
       "7 2017-01-09  1551     748.0      55.0        0.482270  803.0\n",
       "8 2017-01-10  1373     684.0       5.0        0.498179  689.0\n",
       "9 2017-01-11  1463     703.0      57.0        0.480519  760.0"
      ]
     },
     "execution_count": 20,
     "metadata": {},
     "output_type": "execute_result"
    }
   ],
   "source": [
    "total_returned = pd.DataFrame(d.groupby([d.startdate.dt.date]).sum()['returned']).reset_index()\n",
    "\n",
    "total_used = pd.DataFrame(d.groupby([d.startdate.dt.date]).count()['returned']).reset_index()\n",
    "total_used.columns = ['startdate', 'used']\n",
    "\n",
    "totals = pd.merge(total_used, total_returned, on=\"startdate\")\n",
    "totals['startdate'] = pd.to_datetime(totals.startdate)\n",
    "totals['net_loss'] = totals.used - 2 * totals.returned\n",
    "totals['returned_ratio'] = totals.returned / totals.used\n",
    "totals['taken'] = totals.used - totals.returned\n",
    "totals.head(10)"
   ]
  },
  {
   "cell_type": "code",
   "execution_count": 30,
   "metadata": {},
   "outputs": [
    {
     "data": {
      "image/png": "[encoded data removed]",
      "text/plain": [
       "<Figure size 1440x360 with 1 Axes>"
      ]
     },
     "metadata": {},
     "output_type": "display_data"
    }
   ],
   "source": [
    "ax = totals.plot('startdate', 'taken', kind='bar', color='black', figsize=[20,5])\n",
    "for index, label in enumerate(ax.xaxis.get_ticklabels()):\n",
    "    if index % 5 != 0:\n",
    "        label.set_visible(False)"
   ]
  },
  {
   "cell_type": "markdown",
   "metadata": {},
   "source": [
    "Lets look a bit more generally, by week and month, creating a dataframe similar to the general one above."
   ]
  },
  {
   "cell_type": "code",
   "execution_count": 35,
   "metadata": {
    "scrolled": true
   },
   "outputs": [
    {
     "data": {
      "text/html": [
       "<div>\n",
       "<style scoped>\n",
       "    .dataframe tbody tr th:only-of-type {\n",
       "        vertical-align: middle;\n",
       "    }\n",
       "\n",
       "    .dataframe tbody tr th {\n",
       "        vertical-align: top;\n",
       "    }\n",
       "\n",
       "    .dataframe thead th {\n",
       "        text-align: right;\n",
       "    }\n",
       "</style>\n",
       "<table border=\"1\" class=\"dataframe\">\n",
       "  <thead>\n",
       "    <tr style=\"text-align: right;\">\n",
       "      <th></th>\n",
       "      <th>startdate</th>\n",
       "      <th>used</th>\n",
       "      <th>returned</th>\n",
       "      <th>net_loss</th>\n",
       "      <th>returned_ratio</th>\n",
       "      <th>taken</th>\n",
       "    </tr>\n",
       "  </thead>\n",
       "  <tbody>\n",
       "    <tr>\n",
       "      <th>0</th>\n",
       "      <td>1</td>\n",
       "      <td>4923</td>\n",
       "      <td>2405.0</td>\n",
       "      <td>113.0</td>\n",
       "      <td>0.488523</td>\n",
       "      <td>2518.0</td>\n",
       "    </tr>\n",
       "    <tr>\n",
       "      <th>1</th>\n",
       "      <td>2</td>\n",
       "      <td>6649</td>\n",
       "      <td>3031.0</td>\n",
       "      <td>587.0</td>\n",
       "      <td>0.455858</td>\n",
       "      <td>3618.0</td>\n",
       "    </tr>\n",
       "    <tr>\n",
       "      <th>2</th>\n",
       "      <td>3</td>\n",
       "      <td>6498</td>\n",
       "      <td>3151.0</td>\n",
       "      <td>196.0</td>\n",
       "      <td>0.484918</td>\n",
       "      <td>3347.0</td>\n",
       "    </tr>\n",
       "    <tr>\n",
       "      <th>3</th>\n",
       "      <td>4</td>\n",
       "      <td>6410</td>\n",
       "      <td>3113.0</td>\n",
       "      <td>184.0</td>\n",
       "      <td>0.485647</td>\n",
       "      <td>3297.0</td>\n",
       "    </tr>\n",
       "    <tr>\n",
       "      <th>4</th>\n",
       "      <td>5</td>\n",
       "      <td>6196</td>\n",
       "      <td>2927.0</td>\n",
       "      <td>342.0</td>\n",
       "      <td>0.472402</td>\n",
       "      <td>3269.0</td>\n",
       "    </tr>\n",
       "    <tr>\n",
       "      <th>5</th>\n",
       "      <td>6</td>\n",
       "      <td>6343</td>\n",
       "      <td>3024.0</td>\n",
       "      <td>295.0</td>\n",
       "      <td>0.476746</td>\n",
       "      <td>3319.0</td>\n",
       "    </tr>\n",
       "    <tr>\n",
       "      <th>6</th>\n",
       "      <td>7</td>\n",
       "      <td>6370</td>\n",
       "      <td>2940.0</td>\n",
       "      <td>490.0</td>\n",
       "      <td>0.461538</td>\n",
       "      <td>3430.0</td>\n",
       "    </tr>\n",
       "    <tr>\n",
       "      <th>7</th>\n",
       "      <td>8</td>\n",
       "      <td>6574</td>\n",
       "      <td>3081.0</td>\n",
       "      <td>412.0</td>\n",
       "      <td>0.468664</td>\n",
       "      <td>3493.0</td>\n",
       "    </tr>\n",
       "    <tr>\n",
       "      <th>8</th>\n",
       "      <td>9</td>\n",
       "      <td>6087</td>\n",
       "      <td>2892.0</td>\n",
       "      <td>303.0</td>\n",
       "      <td>0.475111</td>\n",
       "      <td>3195.0</td>\n",
       "    </tr>\n",
       "    <tr>\n",
       "      <th>9</th>\n",
       "      <td>10</td>\n",
       "      <td>6709</td>\n",
       "      <td>3343.0</td>\n",
       "      <td>23.0</td>\n",
       "      <td>0.498286</td>\n",
       "      <td>3366.0</td>\n",
       "    </tr>\n",
       "  </tbody>\n",
       "</table>\n",
       "</div>"
      ],
      "text/plain": [
       "   startdate  used  returned  net_loss  returned_ratio   taken\n",
       "0          1  4923    2405.0     113.0        0.488523  2518.0\n",
       "1          2  6649    3031.0     587.0        0.455858  3618.0\n",
       "2          3  6498    3151.0     196.0        0.484918  3347.0\n",
       "3          4  6410    3113.0     184.0        0.485647  3297.0\n",
       "4          5  6196    2927.0     342.0        0.472402  3269.0\n",
       "5          6  6343    3024.0     295.0        0.476746  3319.0\n",
       "6          7  6370    2940.0     490.0        0.461538  3430.0\n",
       "7          8  6574    3081.0     412.0        0.468664  3493.0\n",
       "8          9  6087    2892.0     303.0        0.475111  3195.0\n",
       "9         10  6709    3343.0      23.0        0.498286  3366.0"
      ]
     },
     "execution_count": 35,
     "metadata": {},
     "output_type": "execute_result"
    }
   ],
   "source": [
    "total_returned = pd.DataFrame(d.groupby([d.startdate.dt.week]).sum()['returned']).reset_index()\n",
    "\n",
    "total_used = pd.DataFrame(d.groupby([d.startdate.dt.week]).count()['returned']).reset_index()\n",
    "total_used.columns = ['startdate', 'used']\n",
    "\n",
    "totals_week = pd.merge(total_used, total_returned, on=\"startdate\")\n",
    "totals_week['net_loss'] = totals_week.used - 2 * totals_week.returned\n",
    "totals_week['returned_ratio'] = totals_week.returned / totals_week.used\n",
    "totals_week['taken'] = totals_week.used - totals_week.returned\n",
    "totals_week.head(10)"
   ]
  },
  {
   "cell_type": "code",
   "execution_count": 37,
   "metadata": {},
   "outputs": [
    {
     "data": {
      "text/plain": [
       "<matplotlib.axes._subplots.AxesSubplot at 0x7f61c09e6978>"
      ]
     },
     "execution_count": 37,
     "metadata": {},
     "output_type": "execute_result"
    },
    {
     "data": {
      "image/png": "[encoded data removed]",
      "text/plain": [
       "<Figure size 720x432 with 1 Axes>"
      ]
     },
     "metadata": {},
     "output_type": "display_data"
    }
   ],
   "source": [
    "totals_week.plot('startdate', 'net_loss', kind='bar', color='black', figsize=[10,6], title=\"Net loss per week\")"
   ]
  },
  {
   "cell_type": "code",
   "execution_count": 39,
   "metadata": {},
   "outputs": [
    {
     "data": {
      "text/plain": [
       "<matplotlib.axes._subplots.AxesSubplot at 0x7f617eadf2b0>"
      ]
     },
     "execution_count": 39,
     "metadata": {},
     "output_type": "execute_result"
    },
    {
     "data": {
      "image/png": "[encoded data removed]",
      "text/plain": [
       "<Figure size 720x432 with 1 Axes>"
      ]
     },
     "metadata": {},
     "output_type": "display_data"
    }
   ],
   "source": [
    "totals_week.plot('startdate', 'returned_ratio', kind='bar', color='black', figsize=[10,6], title=\"Proportion returned at end of day per week\")"
   ]
  },
  {
   "cell_type": "code",
   "execution_count": 40,
   "metadata": {},
   "outputs": [
    {
     "data": {
      "text/plain": [
       "<matplotlib.axes._subplots.AxesSubplot at 0x7f6191d88710>"
      ]
     },
     "execution_count": 40,
     "metadata": {},
     "output_type": "execute_result"
    },
    {
     "data": {
      "image/png": "[encoded data removed]",
      "text/plain": [
       "<Figure size 720x432 with 1 Axes>"
      ]
     },
     "metadata": {},
     "output_type": "display_data"
    }
   ],
   "source": [
    "totals_week.plot('startdate', 'used', kind='bar', color='black', figsize=[10,6], title=\"Number Used per week\")"
   ]
  },
  {
   "cell_type": "code",
   "execution_count": 41,
   "metadata": {},
   "outputs": [
    {
     "data": {
      "text/plain": [
       "<matplotlib.axes._subplots.AxesSubplot at 0x7f61a1526c18>"
      ]
     },
     "execution_count": 41,
     "metadata": {},
     "output_type": "execute_result"
    },
    {
     "data": {
      "image/png": "[encoded data removed]",
      "text/plain": [
       "<Figure size 720x432 with 1 Axes>"
      ]
     },
     "metadata": {},
     "output_type": "display_data"
    }
   ],
   "source": [
    "totals_week.plot('startdate', 'taken', kind='bar', color='black', figsize=[10,6], title=\"Number Taken per week\")"
   ]
  },
  {
   "cell_type": "code",
   "execution_count": 43,
   "metadata": {
    "scrolled": true
   },
   "outputs": [
    {
     "data": {
      "text/html": [
       "<div>\n",
       "<style scoped>\n",
       "    .dataframe tbody tr th:only-of-type {\n",
       "        vertical-align: middle;\n",
       "    }\n",
       "\n",
       "    .dataframe tbody tr th {\n",
       "        vertical-align: top;\n",
       "    }\n",
       "\n",
       "    .dataframe thead th {\n",
       "        text-align: right;\n",
       "    }\n",
       "</style>\n",
       "<table border=\"1\" class=\"dataframe\">\n",
       "  <thead>\n",
       "    <tr style=\"text-align: right;\">\n",
       "      <th></th>\n",
       "      <th>startdate</th>\n",
       "      <th>used</th>\n",
       "      <th>returned</th>\n",
       "      <th>net_loss</th>\n",
       "      <th>returned_ratio</th>\n",
       "      <th>taken</th>\n",
       "    </tr>\n",
       "  </thead>\n",
       "  <tbody>\n",
       "    <tr>\n",
       "      <th>0</th>\n",
       "      <td>1</td>\n",
       "      <td>26968</td>\n",
       "      <td>12904.0</td>\n",
       "      <td>1160.0</td>\n",
       "      <td>0.478493</td>\n",
       "      <td>14064.0</td>\n",
       "    </tr>\n",
       "    <tr>\n",
       "      <th>1</th>\n",
       "      <td>2</td>\n",
       "      <td>25341</td>\n",
       "      <td>11853.0</td>\n",
       "      <td>1635.0</td>\n",
       "      <td>0.467740</td>\n",
       "      <td>13488.0</td>\n",
       "    </tr>\n",
       "    <tr>\n",
       "      <th>2</th>\n",
       "      <td>3</td>\n",
       "      <td>30361</td>\n",
       "      <td>14703.0</td>\n",
       "      <td>955.0</td>\n",
       "      <td>0.484273</td>\n",
       "      <td>15658.0</td>\n",
       "    </tr>\n",
       "    <tr>\n",
       "      <th>3</th>\n",
       "      <td>4</td>\n",
       "      <td>25426</td>\n",
       "      <td>11779.0</td>\n",
       "      <td>1868.0</td>\n",
       "      <td>0.463266</td>\n",
       "      <td>13647.0</td>\n",
       "    </tr>\n",
       "    <tr>\n",
       "      <th>4</th>\n",
       "      <td>5</td>\n",
       "      <td>29835</td>\n",
       "      <td>14002.0</td>\n",
       "      <td>1831.0</td>\n",
       "      <td>0.469315</td>\n",
       "      <td>15833.0</td>\n",
       "    </tr>\n",
       "    <tr>\n",
       "      <th>5</th>\n",
       "      <td>6</td>\n",
       "      <td>32046</td>\n",
       "      <td>15246.0</td>\n",
       "      <td>1554.0</td>\n",
       "      <td>0.475754</td>\n",
       "      <td>16800.0</td>\n",
       "    </tr>\n",
       "    <tr>\n",
       "      <th>6</th>\n",
       "      <td>7</td>\n",
       "      <td>31275</td>\n",
       "      <td>14828.0</td>\n",
       "      <td>1619.0</td>\n",
       "      <td>0.474117</td>\n",
       "      <td>16447.0</td>\n",
       "    </tr>\n",
       "    <tr>\n",
       "      <th>7</th>\n",
       "      <td>8</td>\n",
       "      <td>22606</td>\n",
       "      <td>10092.0</td>\n",
       "      <td>2422.0</td>\n",
       "      <td>0.446430</td>\n",
       "      <td>12514.0</td>\n",
       "    </tr>\n",
       "    <tr>\n",
       "      <th>8</th>\n",
       "      <td>9</td>\n",
       "      <td>29048</td>\n",
       "      <td>13724.0</td>\n",
       "      <td>1600.0</td>\n",
       "      <td>0.472459</td>\n",
       "      <td>15324.0</td>\n",
       "    </tr>\n",
       "    <tr>\n",
       "      <th>9</th>\n",
       "      <td>10</td>\n",
       "      <td>30983</td>\n",
       "      <td>14981.0</td>\n",
       "      <td>1021.0</td>\n",
       "      <td>0.483523</td>\n",
       "      <td>16002.0</td>\n",
       "    </tr>\n",
       "  </tbody>\n",
       "</table>\n",
       "</div>"
      ],
      "text/plain": [
       "   startdate   used  returned  net_loss  returned_ratio    taken\n",
       "0          1  26968   12904.0    1160.0        0.478493  14064.0\n",
       "1          2  25341   11853.0    1635.0        0.467740  13488.0\n",
       "2          3  30361   14703.0     955.0        0.484273  15658.0\n",
       "3          4  25426   11779.0    1868.0        0.463266  13647.0\n",
       "4          5  29835   14002.0    1831.0        0.469315  15833.0\n",
       "5          6  32046   15246.0    1554.0        0.475754  16800.0\n",
       "6          7  31275   14828.0    1619.0        0.474117  16447.0\n",
       "7          8  22606   10092.0    2422.0        0.446430  12514.0\n",
       "8          9  29048   13724.0    1600.0        0.472459  15324.0\n",
       "9         10  30983   14981.0    1021.0        0.483523  16002.0"
      ]
     },
     "execution_count": 43,
     "metadata": {},
     "output_type": "execute_result"
    }
   ],
   "source": [
    "total_returned = pd.DataFrame(d.groupby([d.startdate.dt.month]).sum()['returned']).reset_index()\n",
    "\n",
    "total_used = pd.DataFrame(d.groupby([d.startdate.dt.month]).count()['returned']).reset_index()\n",
    "total_used.columns = ['startdate', 'used']\n",
    "\n",
    "totals_month = pd.merge(total_used, total_returned, on=\"startdate\")\n",
    "totals_month['net_loss'] = totals_month.used - 2 * totals_month.returned\n",
    "totals_month['returned_ratio'] = totals_month.returned / totals_month.used\n",
    "totals_month['taken'] = totals_month.used - totals_month.returned\n",
    "totals_month.head(10)"
   ]
  },
  {
   "cell_type": "code",
   "execution_count": 44,
   "metadata": {},
   "outputs": [
    {
     "data": {
      "text/plain": [
       "<matplotlib.axes._subplots.AxesSubplot at 0x7f61a550ed68>"
      ]
     },
     "execution_count": 44,
     "metadata": {},
     "output_type": "execute_result"
    },
    {
     "data": {
      "image/png": "[encoded data removed]",
      "text/plain": [
       "<Figure size 432x288 with 1 Axes>"
      ]
     },
     "metadata": {},
     "output_type": "display_data"
    }
   ],
   "source": [
    "totals_month.plot('startdate', 'net_loss', kind='bar', color='black', title=\"Net Loss per month\")"
   ]
  },
  {
   "cell_type": "code",
   "execution_count": 45,
   "metadata": {},
   "outputs": [
    {
     "data": {
      "text/plain": [
       "<matplotlib.axes._subplots.AxesSubplot at 0x7f61ca01a240>"
      ]
     },
     "execution_count": 45,
     "metadata": {},
     "output_type": "execute_result"
    },
    {
     "data": {
      "image/png": "[encoded data removed]",
      "text/plain": [
       "<Figure size 432x288 with 1 Axes>"
      ]
     },
     "metadata": {},
     "output_type": "display_data"
    }
   ],
   "source": [
    "totals_month.plot('startdate', 'returned_ratio', kind='bar', color='black', title=\"Proportion returned at end of day per month\")"
   ]
  },
  {
   "cell_type": "code",
   "execution_count": 46,
   "metadata": {},
   "outputs": [
    {
     "data": {
      "text/plain": [
       "<matplotlib.axes._subplots.AxesSubplot at 0x7f61abf05668>"
      ]
     },
     "execution_count": 46,
     "metadata": {},
     "output_type": "execute_result"
    },
    {
     "data": {
      "image/png": "[encoded data removed]",
      "text/plain": [
       "<Figure size 432x288 with 1 Axes>"
      ]
     },
     "metadata": {},
     "output_type": "display_data"
    }
   ],
   "source": [
    "totals_month.plot('startdate', 'used', kind='bar', color='black', title=\"Number Used per month\")"
   ]
  },
  {
   "cell_type": "code",
   "execution_count": 47,
   "metadata": {},
   "outputs": [
    {
     "data": {
      "text/plain": [
       "<matplotlib.axes._subplots.AxesSubplot at 0x7f61c13478d0>"
      ]
     },
     "execution_count": 47,
     "metadata": {},
     "output_type": "execute_result"
    },
    {
     "data": {
      "image/png": "[encoded data removed]",
      "text/plain": [
       "<Figure size 432x288 with 1 Axes>"
      ]
     },
     "metadata": {},
     "output_type": "display_data"
    }
   ],
   "source": [
    "totals_month.plot('startdate', 'taken', kind='bar', color='black', title=\"Number Taken per month\")"
   ]
  },
  {
   "cell_type": "markdown",
   "metadata": {},
   "source": [
    "## Wouldn't it be nice to predict something useful?\n",
    "\n",
    "One of the obvious problems operationally for a cycle hire scheme is making sure that there are bikes in the right places. Both so you can pick one up, and so there is space to leave one behind.\n",
    "\n",
    "Unfortunately TFL don't give out any historical data for bike-point capacity (although there is an API for that). We can however do some quick and dirty fun as seen in 'Overview' to see whether it looks like somewhere has been replaced or emptied during some single day. We saw how this very definitely happened for Waterloo and it raises the question of how many bikes do you actually need to move, and how to you predict this.\n",
    "\n",
    "This station is huge, and demand is pretty consistent, so it makes some sense that they would want to have a local warehouse of some sort (assuming that the land is available) instead of constantly shipping in and our - you would collect all the bikes in the evening and gradually put them back out in the morning. However, what if demand tomorrow isn't like today? There's no point having a few hundred bikes sitting in a warehouse when they could be useful eg in Soho.\n",
    "\n",
    "We will try to build a basic model to predict the demand for a given day, the assumption being that by the evening you have an idea of today's data and want to see if tomorrow you will need bikes in Waterloo or elsewhere.\n",
    "\n",
    "This will be a fairly simple multiple linear regression model. The three variables we will use are the bikes taken from one week ago, the bikes taken from the last day of the same type (eg the last business day if tomorrow is a business day), and a binary variable for whether it is a working day or not (not weekend or bank holiday.)"
   ]
  },
  {
   "cell_type": "code",
   "execution_count": 48,
   "metadata": {},
   "outputs": [
    {
     "data": {
      "text/html": [
       "<div>\n",
       "<style scoped>\n",
       "    .dataframe tbody tr th:only-of-type {\n",
       "        vertical-align: middle;\n",
       "    }\n",
       "\n",
       "    .dataframe tbody tr th {\n",
       "        vertical-align: top;\n",
       "    }\n",
       "\n",
       "    .dataframe thead th {\n",
       "        text-align: right;\n",
       "    }\n",
       "</style>\n",
       "<table border=\"1\" class=\"dataframe\">\n",
       "  <thead>\n",
       "    <tr style=\"text-align: right;\">\n",
       "      <th></th>\n",
       "      <th>date</th>\n",
       "      <th>total</th>\n",
       "    </tr>\n",
       "  </thead>\n",
       "  <tbody>\n",
       "    <tr>\n",
       "      <th>0</th>\n",
       "      <td>2017-01-02</td>\n",
       "      <td>121</td>\n",
       "    </tr>\n",
       "    <tr>\n",
       "      <th>1</th>\n",
       "      <td>2017-01-03</td>\n",
       "      <td>1041</td>\n",
       "    </tr>\n",
       "    <tr>\n",
       "      <th>2</th>\n",
       "      <td>2017-01-04</td>\n",
       "      <td>1234</td>\n",
       "    </tr>\n",
       "    <tr>\n",
       "      <th>3</th>\n",
       "      <td>2017-01-05</td>\n",
       "      <td>1261</td>\n",
       "    </tr>\n",
       "    <tr>\n",
       "      <th>4</th>\n",
       "      <td>2017-01-06</td>\n",
       "      <td>1046</td>\n",
       "    </tr>\n",
       "  </tbody>\n",
       "</table>\n",
       "</div>"
      ],
      "text/plain": [
       "        date  total\n",
       "0 2017-01-02    121\n",
       "1 2017-01-03   1041\n",
       "2 2017-01-04   1234\n",
       "3 2017-01-05   1261\n",
       "4 2017-01-06   1046"
      ]
     },
     "execution_count": 48,
     "metadata": {},
     "output_type": "execute_result"
    }
   ],
   "source": [
    "used = totals[['startdate', 'used']].copy()\n",
    "used.columns = ['date', 'total']\n",
    "used_original = used.copy()\n",
    "used.head()"
   ]
  },
  {
   "cell_type": "markdown",
   "metadata": {},
   "source": [
    "#### Same day last week"
   ]
  },
  {
   "cell_type": "code",
   "execution_count": 54,
   "metadata": {
    "scrolled": true
   },
   "outputs": [
    {
     "data": {
      "text/html": [
       "<div>\n",
       "<style scoped>\n",
       "    .dataframe tbody tr th:only-of-type {\n",
       "        vertical-align: middle;\n",
       "    }\n",
       "\n",
       "    .dataframe tbody tr th {\n",
       "        vertical-align: top;\n",
       "    }\n",
       "\n",
       "    .dataframe thead th {\n",
       "        text-align: right;\n",
       "    }\n",
       "</style>\n",
       "<table border=\"1\" class=\"dataframe\">\n",
       "  <thead>\n",
       "    <tr style=\"text-align: right;\">\n",
       "      <th></th>\n",
       "      <th>date</th>\n",
       "      <th>total</th>\n",
       "      <th>total_last_week</th>\n",
       "    </tr>\n",
       "  </thead>\n",
       "  <tbody>\n",
       "    <tr>\n",
       "      <th>7</th>\n",
       "      <td>2017-01-09</td>\n",
       "      <td>1551</td>\n",
       "      <td>121.0</td>\n",
       "    </tr>\n",
       "    <tr>\n",
       "      <th>8</th>\n",
       "      <td>2017-01-10</td>\n",
       "      <td>1373</td>\n",
       "      <td>1041.0</td>\n",
       "    </tr>\n",
       "    <tr>\n",
       "      <th>9</th>\n",
       "      <td>2017-01-11</td>\n",
       "      <td>1463</td>\n",
       "      <td>1234.0</td>\n",
       "    </tr>\n",
       "    <tr>\n",
       "      <th>10</th>\n",
       "      <td>2017-01-12</td>\n",
       "      <td>993</td>\n",
       "      <td>1261.0</td>\n",
       "    </tr>\n",
       "    <tr>\n",
       "      <th>11</th>\n",
       "      <td>2017-01-13</td>\n",
       "      <td>1117</td>\n",
       "      <td>1046.0</td>\n",
       "    </tr>\n",
       "    <tr>\n",
       "      <th>12</th>\n",
       "      <td>2017-01-14</td>\n",
       "      <td>112</td>\n",
       "      <td>97.0</td>\n",
       "    </tr>\n",
       "    <tr>\n",
       "      <th>13</th>\n",
       "      <td>2017-01-15</td>\n",
       "      <td>40</td>\n",
       "      <td>123.0</td>\n",
       "    </tr>\n",
       "    <tr>\n",
       "      <th>14</th>\n",
       "      <td>2017-01-16</td>\n",
       "      <td>1062</td>\n",
       "      <td>1551.0</td>\n",
       "    </tr>\n",
       "    <tr>\n",
       "      <th>15</th>\n",
       "      <td>2017-01-17</td>\n",
       "      <td>1328</td>\n",
       "      <td>1373.0</td>\n",
       "    </tr>\n",
       "    <tr>\n",
       "      <th>16</th>\n",
       "      <td>2017-01-18</td>\n",
       "      <td>1331</td>\n",
       "      <td>1463.0</td>\n",
       "    </tr>\n",
       "  </tbody>\n",
       "</table>\n",
       "</div>"
      ],
      "text/plain": [
       "         date  total  total_last_week\n",
       "7  2017-01-09   1551            121.0\n",
       "8  2017-01-10   1373           1041.0\n",
       "9  2017-01-11   1463           1234.0\n",
       "10 2017-01-12    993           1261.0\n",
       "11 2017-01-13   1117           1046.0\n",
       "12 2017-01-14    112             97.0\n",
       "13 2017-01-15     40            123.0\n",
       "14 2017-01-16   1062           1551.0\n",
       "15 2017-01-17   1328           1373.0\n",
       "16 2017-01-18   1331           1463.0"
      ]
     },
     "execution_count": 54,
     "metadata": {},
     "output_type": "execute_result"
    }
   ],
   "source": [
    "used['total_last_week'] = used['total'].shift(7)\n",
    "used = used[~used['total_last_week'].isnull()]\n",
    "used.head(10)"
   ]
  },
  {
   "cell_type": "code",
   "execution_count": 58,
   "metadata": {
    "scrolled": true
   },
   "outputs": [
    {
     "name": "stdout",
     "output_type": "stream",
     "text": [
      "r^2 for same day last week vs current:  0.8576193580805839\n"
     ]
    },
    {
     "data": {
      "image/png": "[encoded data removed]",
      "text/plain": [
       "<Figure size 432x288 with 1 Axes>"
      ]
     },
     "metadata": {},
     "output_type": "display_data"
    }
   ],
   "source": [
    "slope, intercept, r_value, p_value, std_err = stats.linregress(used.total, used.total_last_week)\n",
    "print(f'r^2 for same day last week vs current:  {r_value}')\n",
    "pylab.scatter(used.total, used.total_last_week)\n",
    "plt.plot(used.total, intercept + slope * used.total, 'r')\n",
    "plt.show()"
   ]
  },
  {
   "cell_type": "markdown",
   "metadata": {},
   "source": [
    "### Days off - Bank Holidays and Weekends\n",
    "\n",
    "Days when people have a day off work.\n",
    "\n",
    "Would be nice to predict holiday times too but not sure how to do so reliably. School holidays?"
   ]
  },
  {
   "cell_type": "code",
   "execution_count": 59,
   "metadata": {},
   "outputs": [],
   "source": [
    "holidays = []\n",
    "with open('bank_holidays_2017.csv', 'r') as f:\n",
    "    for line in f:\n",
    "        holidays.append(datetime.strptime(line.strip('\\n'), '%d/%m/%y'))\n",
    "    \n",
    "used['day_off'] = used['date'].apply(lambda d: (d in holidays) | (d.dayofweek >= 5) )"
   ]
  },
  {
   "cell_type": "markdown",
   "metadata": {},
   "source": [
    "### Previous day of same day-type (eg previous day working  if working)"
   ]
  },
  {
   "cell_type": "markdown",
   "metadata": {},
   "source": [
    "#### Weekdays\n",
    "Excluding bank holidays"
   ]
  },
  {
   "cell_type": "code",
   "execution_count": 60,
   "metadata": {
    "scrolled": true
   },
   "outputs": [
    {
     "name": "stdout",
     "output_type": "stream",
     "text": [
      "shape (254, 2)\n"
     ]
    },
    {
     "data": {
      "text/html": [
       "<div>\n",
       "<style scoped>\n",
       "    .dataframe tbody tr th:only-of-type {\n",
       "        vertical-align: middle;\n",
       "    }\n",
       "\n",
       "    .dataframe tbody tr th {\n",
       "        vertical-align: top;\n",
       "    }\n",
       "\n",
       "    .dataframe thead th {\n",
       "        text-align: right;\n",
       "    }\n",
       "</style>\n",
       "<table border=\"1\" class=\"dataframe\">\n",
       "  <thead>\n",
       "    <tr style=\"text-align: right;\">\n",
       "      <th></th>\n",
       "      <th>date</th>\n",
       "      <th>total</th>\n",
       "    </tr>\n",
       "  </thead>\n",
       "  <tbody>\n",
       "    <tr>\n",
       "      <th>1</th>\n",
       "      <td>NaT</td>\n",
       "      <td>1041</td>\n",
       "    </tr>\n",
       "    <tr>\n",
       "      <th>2</th>\n",
       "      <td>2017-01-03</td>\n",
       "      <td>1234</td>\n",
       "    </tr>\n",
       "    <tr>\n",
       "      <th>3</th>\n",
       "      <td>2017-01-04</td>\n",
       "      <td>1261</td>\n",
       "    </tr>\n",
       "    <tr>\n",
       "      <th>4</th>\n",
       "      <td>2017-01-05</td>\n",
       "      <td>1046</td>\n",
       "    </tr>\n",
       "    <tr>\n",
       "      <th>7</th>\n",
       "      <td>2017-01-06</td>\n",
       "      <td>1551</td>\n",
       "    </tr>\n",
       "  </tbody>\n",
       "</table>\n",
       "</div>"
      ],
      "text/plain": [
       "        date  total\n",
       "1        NaT   1041\n",
       "2 2017-01-03   1234\n",
       "3 2017-01-04   1261\n",
       "4 2017-01-05   1046\n",
       "7 2017-01-06   1551"
      ]
     },
     "execution_count": 60,
     "metadata": {},
     "output_type": "execute_result"
    }
   ],
   "source": [
    "weekdays = used_original[(used_original.date.dt.dayofweek <= 4) & (~used_original['date'].isin(holidays))].copy()\n",
    "weekdays['date'] = weekdays['date'].shift(1)\n",
    "print('shape', weekdays.shape)\n",
    "weekdays.head()"
   ]
  },
  {
   "cell_type": "code",
   "execution_count": 61,
   "metadata": {
    "scrolled": true
   },
   "outputs": [
    {
     "name": "stdout",
     "output_type": "stream",
     "text": [
      "r^2 for previous weekday:  0.605509737983169\n"
     ]
    },
    {
     "data": {
      "image/png": "[encoded data removed]",
      "text/plain": [
       "<Figure size 432x288 with 1 Axes>"
      ]
     },
     "metadata": {},
     "output_type": "display_data"
    }
   ],
   "source": [
    "slope, intercept, r_value, p_value, std_err = stats.linregress(weekdays.total[:-1], weekdays.total[1:])\n",
    "print(f'r^2 for previous weekday:  {r_value}')\n",
    "pylab.scatter(weekdays.total[1:], weekdays.total[:-1])\n",
    "plt.plot(weekdays.total[1:], intercept + slope * weekdays.total[1:], 'r')\n",
    "plt.show()"
   ]
  },
  {
   "cell_type": "markdown",
   "metadata": {},
   "source": [
    "#### Weekends\n",
    "\\+ bank holidays"
   ]
  },
  {
   "cell_type": "code",
   "execution_count": 62,
   "metadata": {
    "scrolled": true
   },
   "outputs": [
    {
     "name": "stdout",
     "output_type": "stream",
     "text": [
      "shape (108, 2)\n"
     ]
    },
    {
     "data": {
      "text/html": [
       "<div>\n",
       "<style scoped>\n",
       "    .dataframe tbody tr th:only-of-type {\n",
       "        vertical-align: middle;\n",
       "    }\n",
       "\n",
       "    .dataframe tbody tr th {\n",
       "        vertical-align: top;\n",
       "    }\n",
       "\n",
       "    .dataframe thead th {\n",
       "        text-align: right;\n",
       "    }\n",
       "</style>\n",
       "<table border=\"1\" class=\"dataframe\">\n",
       "  <thead>\n",
       "    <tr style=\"text-align: right;\">\n",
       "      <th></th>\n",
       "      <th>date</th>\n",
       "      <th>total</th>\n",
       "    </tr>\n",
       "  </thead>\n",
       "  <tbody>\n",
       "    <tr>\n",
       "      <th>0</th>\n",
       "      <td>NaT</td>\n",
       "      <td>121</td>\n",
       "    </tr>\n",
       "    <tr>\n",
       "      <th>5</th>\n",
       "      <td>2017-01-02</td>\n",
       "      <td>97</td>\n",
       "    </tr>\n",
       "    <tr>\n",
       "      <th>6</th>\n",
       "      <td>2017-01-07</td>\n",
       "      <td>123</td>\n",
       "    </tr>\n",
       "    <tr>\n",
       "      <th>12</th>\n",
       "      <td>2017-01-08</td>\n",
       "      <td>112</td>\n",
       "    </tr>\n",
       "    <tr>\n",
       "      <th>13</th>\n",
       "      <td>2017-01-14</td>\n",
       "      <td>40</td>\n",
       "    </tr>\n",
       "  </tbody>\n",
       "</table>\n",
       "</div>"
      ],
      "text/plain": [
       "         date  total\n",
       "0         NaT    121\n",
       "5  2017-01-02     97\n",
       "6  2017-01-07    123\n",
       "12 2017-01-08    112\n",
       "13 2017-01-14     40"
      ]
     },
     "execution_count": 62,
     "metadata": {},
     "output_type": "execute_result"
    }
   ],
   "source": [
    "weekends = used_original[(used_original.date.dt.dayofweek >= 5) | (used_original['date'].isin(holidays))].copy()\n",
    "weekends['date'] = weekends['date'].shift(1)\n",
    "print('shape', weekends.shape)\n",
    "weekends.head()"
   ]
  },
  {
   "cell_type": "code",
   "execution_count": 63,
   "metadata": {
    "scrolled": true
   },
   "outputs": [
    {
     "name": "stdout",
     "output_type": "stream",
     "text": [
      "r^2 for previous weekend day:  0.539578967100243\n"
     ]
    },
    {
     "data": {
      "image/png": "[encoded data removed]",
      "text/plain": [
       "<Figure size 432x288 with 1 Axes>"
      ]
     },
     "metadata": {},
     "output_type": "display_data"
    }
   ],
   "source": [
    "slope, intercept, r_value, p_value, std_err = stats.linregress(weekends.total[:-1], weekends.total[1:])\n",
    "print(f'r^2 for previous weekend day:  {r_value}')\n",
    "pylab.scatter(weekends.total[1:], weekends.total[:-1])\n",
    "plt.plot(weekends.total[1:], intercept + slope * weekends.total[1:], 'r')\n",
    "plt.show()"
   ]
  },
  {
   "cell_type": "markdown",
   "metadata": {},
   "source": [
    "Combine the two and merge into main"
   ]
  },
  {
   "cell_type": "code",
   "execution_count": 64,
   "metadata": {
    "scrolled": true
   },
   "outputs": [
    {
     "data": {
      "text/html": [
       "<div>\n",
       "<style scoped>\n",
       "    .dataframe tbody tr th:only-of-type {\n",
       "        vertical-align: middle;\n",
       "    }\n",
       "\n",
       "    .dataframe tbody tr th {\n",
       "        vertical-align: top;\n",
       "    }\n",
       "\n",
       "    .dataframe thead th {\n",
       "        text-align: right;\n",
       "    }\n",
       "</style>\n",
       "<table border=\"1\" class=\"dataframe\">\n",
       "  <thead>\n",
       "    <tr style=\"text-align: right;\">\n",
       "      <th></th>\n",
       "      <th>date</th>\n",
       "      <th>total_last_same_day_type</th>\n",
       "    </tr>\n",
       "  </thead>\n",
       "  <tbody>\n",
       "    <tr>\n",
       "      <th>5</th>\n",
       "      <td>2017-01-02</td>\n",
       "      <td>97</td>\n",
       "    </tr>\n",
       "    <tr>\n",
       "      <th>2</th>\n",
       "      <td>2017-01-03</td>\n",
       "      <td>1234</td>\n",
       "    </tr>\n",
       "    <tr>\n",
       "      <th>3</th>\n",
       "      <td>2017-01-04</td>\n",
       "      <td>1261</td>\n",
       "    </tr>\n",
       "    <tr>\n",
       "      <th>4</th>\n",
       "      <td>2017-01-05</td>\n",
       "      <td>1046</td>\n",
       "    </tr>\n",
       "    <tr>\n",
       "      <th>7</th>\n",
       "      <td>2017-01-06</td>\n",
       "      <td>1551</td>\n",
       "    </tr>\n",
       "  </tbody>\n",
       "</table>\n",
       "</div>"
      ],
      "text/plain": [
       "        date  total_last_same_day_type\n",
       "5 2017-01-02                        97\n",
       "2 2017-01-03                      1234\n",
       "3 2017-01-04                      1261\n",
       "4 2017-01-05                      1046\n",
       "7 2017-01-06                      1551"
      ]
     },
     "execution_count": 64,
     "metadata": {},
     "output_type": "execute_result"
    }
   ],
   "source": [
    "last_day_type = pd.concat([weekends, weekdays], sort=True).sort_values(by='date')\n",
    "last_day_type.columns = ['date', 'total_last_same_day_type']\n",
    "last_day_type = last_day_type[~last_day_type['date'].isnull()]\n",
    "last_day_type.head()"
   ]
  },
  {
   "cell_type": "code",
   "execution_count": 65,
   "metadata": {},
   "outputs": [
    {
     "data": {
      "text/html": [
       "<div>\n",
       "<style scoped>\n",
       "    .dataframe tbody tr th:only-of-type {\n",
       "        vertical-align: middle;\n",
       "    }\n",
       "\n",
       "    .dataframe tbody tr th {\n",
       "        vertical-align: top;\n",
       "    }\n",
       "\n",
       "    .dataframe thead th {\n",
       "        text-align: right;\n",
       "    }\n",
       "</style>\n",
       "<table border=\"1\" class=\"dataframe\">\n",
       "  <thead>\n",
       "    <tr style=\"text-align: right;\">\n",
       "      <th></th>\n",
       "      <th>date</th>\n",
       "      <th>total</th>\n",
       "      <th>total_last_week</th>\n",
       "      <th>day_off</th>\n",
       "      <th>total_last_same_day_type</th>\n",
       "    </tr>\n",
       "  </thead>\n",
       "  <tbody>\n",
       "    <tr>\n",
       "      <th>0</th>\n",
       "      <td>2017-01-09</td>\n",
       "      <td>1551</td>\n",
       "      <td>121.0</td>\n",
       "      <td>False</td>\n",
       "      <td>1373</td>\n",
       "    </tr>\n",
       "    <tr>\n",
       "      <th>1</th>\n",
       "      <td>2017-01-10</td>\n",
       "      <td>1373</td>\n",
       "      <td>1041.0</td>\n",
       "      <td>False</td>\n",
       "      <td>1463</td>\n",
       "    </tr>\n",
       "    <tr>\n",
       "      <th>2</th>\n",
       "      <td>2017-01-11</td>\n",
       "      <td>1463</td>\n",
       "      <td>1234.0</td>\n",
       "      <td>False</td>\n",
       "      <td>993</td>\n",
       "    </tr>\n",
       "    <tr>\n",
       "      <th>3</th>\n",
       "      <td>2017-01-12</td>\n",
       "      <td>993</td>\n",
       "      <td>1261.0</td>\n",
       "      <td>False</td>\n",
       "      <td>1117</td>\n",
       "    </tr>\n",
       "    <tr>\n",
       "      <th>4</th>\n",
       "      <td>2017-01-13</td>\n",
       "      <td>1117</td>\n",
       "      <td>1046.0</td>\n",
       "      <td>False</td>\n",
       "      <td>1062</td>\n",
       "    </tr>\n",
       "  </tbody>\n",
       "</table>\n",
       "</div>"
      ],
      "text/plain": [
       "        date  total  total_last_week  day_off  total_last_same_day_type\n",
       "0 2017-01-09   1551            121.0    False                      1373\n",
       "1 2017-01-10   1373           1041.0    False                      1463\n",
       "2 2017-01-11   1463           1234.0    False                       993\n",
       "3 2017-01-12    993           1261.0    False                      1117\n",
       "4 2017-01-13   1117           1046.0    False                      1062"
      ]
     },
     "execution_count": 65,
     "metadata": {},
     "output_type": "execute_result"
    }
   ],
   "source": [
    "used = pd.merge(used, last_day_type, on='date')\n",
    "used.head()"
   ]
  },
  {
   "cell_type": "markdown",
   "metadata": {},
   "source": [
    "### Cool, Lets have a look at what we have\n",
    "\n",
    "We can quickly plot our predictors before we mix them all together"
   ]
  },
  {
   "cell_type": "code",
   "execution_count": 211,
   "metadata": {},
   "outputs": [],
   "source": [
    "used.to_pickle('used.pkl')"
   ]
  },
  {
   "cell_type": "code",
   "execution_count": null,
   "metadata": {},
   "outputs": [],
   "source": [
    "used = pd.from_pickle('used.pkl')"
   ]
  },
  {
   "cell_type": "code",
   "execution_count": 66,
   "metadata": {},
   "outputs": [
    {
     "data": {
      "text/html": [
       "<div>\n",
       "<style scoped>\n",
       "    .dataframe tbody tr th:only-of-type {\n",
       "        vertical-align: middle;\n",
       "    }\n",
       "\n",
       "    .dataframe tbody tr th {\n",
       "        vertical-align: top;\n",
       "    }\n",
       "\n",
       "    .dataframe thead th {\n",
       "        text-align: right;\n",
       "    }\n",
       "</style>\n",
       "<table border=\"1\" class=\"dataframe\">\n",
       "  <thead>\n",
       "    <tr style=\"text-align: right;\">\n",
       "      <th></th>\n",
       "      <th>date</th>\n",
       "      <th>total</th>\n",
       "      <th>total_last_week</th>\n",
       "      <th>day_off</th>\n",
       "      <th>total_last_same_day_type</th>\n",
       "    </tr>\n",
       "  </thead>\n",
       "  <tbody>\n",
       "    <tr>\n",
       "      <th>0</th>\n",
       "      <td>2017-01-09</td>\n",
       "      <td>1551</td>\n",
       "      <td>121.0</td>\n",
       "      <td>False</td>\n",
       "      <td>1373</td>\n",
       "    </tr>\n",
       "    <tr>\n",
       "      <th>1</th>\n",
       "      <td>2017-01-10</td>\n",
       "      <td>1373</td>\n",
       "      <td>1041.0</td>\n",
       "      <td>False</td>\n",
       "      <td>1463</td>\n",
       "    </tr>\n",
       "    <tr>\n",
       "      <th>2</th>\n",
       "      <td>2017-01-11</td>\n",
       "      <td>1463</td>\n",
       "      <td>1234.0</td>\n",
       "      <td>False</td>\n",
       "      <td>993</td>\n",
       "    </tr>\n",
       "    <tr>\n",
       "      <th>3</th>\n",
       "      <td>2017-01-12</td>\n",
       "      <td>993</td>\n",
       "      <td>1261.0</td>\n",
       "      <td>False</td>\n",
       "      <td>1117</td>\n",
       "    </tr>\n",
       "    <tr>\n",
       "      <th>4</th>\n",
       "      <td>2017-01-13</td>\n",
       "      <td>1117</td>\n",
       "      <td>1046.0</td>\n",
       "      <td>False</td>\n",
       "      <td>1062</td>\n",
       "    </tr>\n",
       "  </tbody>\n",
       "</table>\n",
       "</div>"
      ],
      "text/plain": [
       "        date  total  total_last_week  day_off  total_last_same_day_type\n",
       "0 2017-01-09   1551            121.0    False                      1373\n",
       "1 2017-01-10   1373           1041.0    False                      1463\n",
       "2 2017-01-11   1463           1234.0    False                       993\n",
       "3 2017-01-12    993           1261.0    False                      1117\n",
       "4 2017-01-13   1117           1046.0    False                      1062"
      ]
     },
     "execution_count": 66,
     "metadata": {},
     "output_type": "execute_result"
    }
   ],
   "source": [
    "used.head()"
   ]
  },
  {
   "cell_type": "code",
   "execution_count": 215,
   "metadata": {
    "scrolled": true
   },
   "outputs": [
    {
     "name": "stdout",
     "output_type": "stream",
     "text": [
      "r^2 for same day last week:  0.8632322346164296\n"
     ]
    },
    {
     "data": {
      "image/png": "[encoded data removed]",
      "text/plain": [
       "<Figure size 432x288 with 1 Axes>"
      ]
     },
     "metadata": {},
     "output_type": "display_data"
    }
   ],
   "source": [
    "slope, intercept, r_value, p_value, std_err = stats.linregress(used.total, used.total_last_week)\n",
    "print(f'r^2 for same day last week:  {r_value}')\n",
    "pylab.scatter(used.total, used.total_last_week)\n",
    "plt.plot(used.total, intercept + slope * used.total, 'r')\n",
    "plt.show()"
   ]
  },
  {
   "cell_type": "code",
   "execution_count": 216,
   "metadata": {
    "scrolled": true
   },
   "outputs": [
    {
     "name": "stdout",
     "output_type": "stream",
     "text": [
      "r^2 for last of same day type:  0.9421511114738644\n"
     ]
    },
    {
     "data": {
      "image/png": "[encoded data removed]",
      "text/plain": [
       "<Figure size 432x288 with 1 Axes>"
      ]
     },
     "metadata": {},
     "output_type": "display_data"
    }
   ],
   "source": [
    "slope, intercept, r_value, p_value, std_err = stats.linregress(used.total, used.total_last_same_day_type)\n",
    "print(f'r^2 for last of same day type:  {r_value}')\n",
    "pylab.scatter(used.total, used.total_last_same_day_type)\n",
    "plt.plot(used.total, intercept + slope * used.total, 'r')\n",
    "plt.show()"
   ]
  },
  {
   "cell_type": "code",
   "execution_count": 217,
   "metadata": {
    "scrolled": true
   },
   "outputs": [
    {
     "name": "stdout",
     "output_type": "stream",
     "text": [
      "r^2 for last of same day type:  -0.9256384168523355\n"
     ]
    },
    {
     "data": {
      "image/png": "[encoded data removed]",
      "text/plain": [
       "<Figure size 432x288 with 1 Axes>"
      ]
     },
     "metadata": {},
     "output_type": "display_data"
    }
   ],
   "source": [
    "slope, intercept, r_value, p_value, std_err = stats.linregress(used.total, used.day_off)\n",
    "print(f'r^2 for last of same day type:  {r_value}')\n",
    "pylab.scatter(used.total, used.day_off)\n",
    "plt.plot(used.total, intercept + slope * used.total, 'r')\n",
    "plt.show()"
   ]
  },
  {
   "cell_type": "markdown",
   "metadata": {},
   "source": [
    "Not too bad in general\n",
    "\n",
    "Now lets split it into training and test sets and model it up!"
   ]
  },
  {
   "cell_type": "code",
   "execution_count": 68,
   "metadata": {},
   "outputs": [
    {
     "data": {
      "text/html": [
       "<div>\n",
       "<style scoped>\n",
       "    .dataframe tbody tr th:only-of-type {\n",
       "        vertical-align: middle;\n",
       "    }\n",
       "\n",
       "    .dataframe tbody tr th {\n",
       "        vertical-align: top;\n",
       "    }\n",
       "\n",
       "    .dataframe thead th {\n",
       "        text-align: right;\n",
       "    }\n",
       "</style>\n",
       "<table border=\"1\" class=\"dataframe\">\n",
       "  <thead>\n",
       "    <tr style=\"text-align: right;\">\n",
       "      <th></th>\n",
       "      <th>date</th>\n",
       "      <th>total</th>\n",
       "      <th>total_last_week</th>\n",
       "      <th>day_off</th>\n",
       "      <th>total_last_same_day_type</th>\n",
       "    </tr>\n",
       "  </thead>\n",
       "  <tbody>\n",
       "    <tr>\n",
       "      <th>0</th>\n",
       "      <td>2017-01-09</td>\n",
       "      <td>1551</td>\n",
       "      <td>121.0</td>\n",
       "      <td>False</td>\n",
       "      <td>1373</td>\n",
       "    </tr>\n",
       "    <tr>\n",
       "      <th>1</th>\n",
       "      <td>2017-01-10</td>\n",
       "      <td>1373</td>\n",
       "      <td>1041.0</td>\n",
       "      <td>False</td>\n",
       "      <td>1463</td>\n",
       "    </tr>\n",
       "    <tr>\n",
       "      <th>2</th>\n",
       "      <td>2017-01-11</td>\n",
       "      <td>1463</td>\n",
       "      <td>1234.0</td>\n",
       "      <td>False</td>\n",
       "      <td>993</td>\n",
       "    </tr>\n",
       "    <tr>\n",
       "      <th>3</th>\n",
       "      <td>2017-01-12</td>\n",
       "      <td>993</td>\n",
       "      <td>1261.0</td>\n",
       "      <td>False</td>\n",
       "      <td>1117</td>\n",
       "    </tr>\n",
       "    <tr>\n",
       "      <th>4</th>\n",
       "      <td>2017-01-13</td>\n",
       "      <td>1117</td>\n",
       "      <td>1046.0</td>\n",
       "      <td>False</td>\n",
       "      <td>1062</td>\n",
       "    </tr>\n",
       "  </tbody>\n",
       "</table>\n",
       "</div>"
      ],
      "text/plain": [
       "        date  total  total_last_week  day_off  total_last_same_day_type\n",
       "0 2017-01-09   1551            121.0    False                      1373\n",
       "1 2017-01-10   1373           1041.0    False                      1463\n",
       "2 2017-01-11   1463           1234.0    False                       993\n",
       "3 2017-01-12    993           1261.0    False                      1117\n",
       "4 2017-01-13   1117           1046.0    False                      1062"
      ]
     },
     "execution_count": 68,
     "metadata": {},
     "output_type": "execute_result"
    }
   ],
   "source": [
    "used.head()"
   ]
  },
  {
   "cell_type": "code",
   "execution_count": 67,
   "metadata": {},
   "outputs": [],
   "source": [
    "X = used[['total_last_week', 'total_last_same_day_type', 'day_off']]\n",
    "y = used['total']"
   ]
  },
  {
   "cell_type": "code",
   "execution_count": 92,
   "metadata": {},
   "outputs": [],
   "source": [
    "X_train, X_test, y_train, y_test = train_test_split(\n",
    "    X, y, test_size=0.33)"
   ]
  },
  {
   "cell_type": "code",
   "execution_count": 93,
   "metadata": {},
   "outputs": [
    {
     "name": "stdout",
     "output_type": "stream",
     "text": [
      "Intercept:    528.2352832146678\n",
      "Coefficients: [ 1.06757223e-01  4.63611043e-01 -4.55101476e+02]\n"
     ]
    }
   ],
   "source": [
    "regr = linear_model.LinearRegression()\n",
    "regr.fit(X_train, y_train)\n",
    "print(f'Intercept:    {regr.intercept_}')\n",
    "print(f'Coefficients: {regr.coef_}')"
   ]
  },
  {
   "cell_type": "code",
   "execution_count": 94,
   "metadata": {},
   "outputs": [],
   "source": [
    "y_predicted = regr.predict(X_test)"
   ]
  },
  {
   "cell_type": "code",
   "execution_count": 102,
   "metadata": {},
   "outputs": [
    {
     "data": {
      "image/png": "[encoded data removed]",
      "text/plain": [
       "<Figure size 432x288 with 1 Axes>"
      ]
     },
     "metadata": {},
     "output_type": "display_data"
    },
    {
     "name": "stdout",
     "output_type": "stream",
     "text": [
      "Score:  0.917167987844442\n"
     ]
    }
   ],
   "source": [
    "slope, intercept, r_value, p_value, std_err = stats.linregress(y_test, y_predicted)\n",
    "pylab.scatter(y_test, y_predicted)\n",
    "plt.plot(y_test, intercept + slope * y_test, 'r')\n",
    "plt.show()\n",
    "print(f'Score:  {regr.score(X_test, y_test)}')"
   ]
  },
  {
   "cell_type": "markdown",
   "metadata": {},
   "source": [
    "## How did we do?\n",
    "\n",
    "So, all in all not too bad. Definitely improved on any single predictor though it's absolutely not perfect.\n",
    "\n",
    "### Improvements\n",
    "\n",
    "Other predictors that could be interesting to look at include:\n",
    "\n",
    "* Weather - did it/is it predicted to rain and does this affect people's decisions.\n",
    "* Holiday times - Unclear how best to represent this, maybe finding some dataset of most common holiday times or correlating to school holidays.\n",
    "  * This could be binary as in the 'days_off' property or weighted based on when people actually take holidays.\n",
    "* Darkness - Do fewer people tend to cycle in the dark. In December it gets light some time after 8AM and dark around 4PM, meaning many people would be coming home in the dark.\n",
    "  * However the week/month views don't really suggest a reduction of people in December.\n",
    "* Better modelling of a week prior. This works well for stable schedules but less well if we are looking at a business day a week after a bank holiday.\n",
    "  * We could change the creation of this to go further back in the case of a confict, or add a second binary variable.\n",
    "* Rolling average for the past n days rather than just the day before."
   ]
  }
 ],
 "metadata": {
  "kernelspec": {
   "display_name": "Python 3",
   "language": "python",
   "name": "python3"
  },
  "language_info": {
   "codemirror_mode": {
    "name": "ipython",
    "version": 3
   },
   "file_extension": ".py",
   "mimetype": "text/x-python",
   "name": "python",
   "nbconvert_exporter": "python",
   "pygments_lexer": "ipython3",
   "version": "3.7.0"
  }
 },
 "nbformat": 4,
 "nbformat_minor": 2
}
